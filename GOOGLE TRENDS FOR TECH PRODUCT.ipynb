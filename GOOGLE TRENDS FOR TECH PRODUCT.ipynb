{
 "cells": [
  {
   "cell_type": "markdown",
   "id": "83f485e1",
   "metadata": {},
   "source": [
    "## Importing libraries"
   ]
  },
  {
   "cell_type": "code",
   "execution_count": 177,
   "id": "2254b650",
   "metadata": {},
   "outputs": [],
   "source": [
    "import numpy as np \n",
    "import pandas as pd\n",
    "from functools import reduce"
   ]
  },
  {
   "cell_type": "markdown",
   "id": "2d5a9b60",
   "metadata": {},
   "source": [
    "## Importing dataset"
   ]
  },
  {
   "cell_type": "code",
   "execution_count": 178,
   "id": "1adda1bc",
   "metadata": {},
   "outputs": [],
   "source": [
    "xbox_gt = pd.read_csv(\"xboxonegt.csv\")"
   ]
  },
  {
   "cell_type": "code",
   "execution_count": 179,
   "id": "47869d3c",
   "metadata": {},
   "outputs": [],
   "source": [
    "ps4_gt = pd.read_csv(\"ps4gt.csv\")"
   ]
  },
  {
   "cell_type": "code",
   "execution_count": 180,
   "id": "5594725c",
   "metadata": {},
   "outputs": [],
   "source": [
    "videogame_gt = pd.read_csv(\"vggt.csv\")"
   ]
  },
  {
   "cell_type": "markdown",
   "id": "4be5da40",
   "metadata": {},
   "source": [
    "## pre - processing for xbox"
   ]
  },
  {
   "cell_type": "code",
   "execution_count": 181,
   "id": "b4dedff8",
   "metadata": {},
   "outputs": [
    {
     "data": {
      "text/html": [
       "<div>\n",
       "<style scoped>\n",
       "    .dataframe tbody tr th:only-of-type {\n",
       "        vertical-align: middle;\n",
       "    }\n",
       "\n",
       "    .dataframe tbody tr th {\n",
       "        vertical-align: top;\n",
       "    }\n",
       "\n",
       "    .dataframe thead th {\n",
       "        text-align: right;\n",
       "    }\n",
       "</style>\n",
       "<table border=\"1\" class=\"dataframe\">\n",
       "  <thead>\n",
       "    <tr style=\"text-align: right;\">\n",
       "      <th></th>\n",
       "      <th>Category: All categories</th>\n",
       "    </tr>\n",
       "  </thead>\n",
       "  <tbody>\n",
       "    <tr>\n",
       "      <th>Week</th>\n",
       "      <td>Xbox One: (United States)</td>\n",
       "    </tr>\n",
       "    <tr>\n",
       "      <th>2017-09-17</th>\n",
       "      <td>38</td>\n",
       "    </tr>\n",
       "    <tr>\n",
       "      <th>2017-09-24</th>\n",
       "      <td>36</td>\n",
       "    </tr>\n",
       "    <tr>\n",
       "      <th>2017-10-01</th>\n",
       "      <td>35</td>\n",
       "    </tr>\n",
       "    <tr>\n",
       "      <th>2017-10-08</th>\n",
       "      <td>37</td>\n",
       "    </tr>\n",
       "  </tbody>\n",
       "</table>\n",
       "</div>"
      ],
      "text/plain": [
       "             Category: All categories\n",
       "Week        Xbox One: (United States)\n",
       "2017-09-17                         38\n",
       "2017-09-24                         36\n",
       "2017-10-01                         35\n",
       "2017-10-08                         37"
      ]
     },
     "execution_count": 181,
     "metadata": {},
     "output_type": "execute_result"
    }
   ],
   "source": [
    "xbox_gt.head()"
   ]
  },
  {
   "cell_type": "code",
   "execution_count": 182,
   "id": "5a3fad55",
   "metadata": {},
   "outputs": [],
   "source": [
    "xbox_gt=xbox_gt.reset_index()"
   ]
  },
  {
   "cell_type": "code",
   "execution_count": 183,
   "id": "92a993c9",
   "metadata": {},
   "outputs": [],
   "source": [
    "xbox_gt1=xbox_gt.drop(index=0,axis=1)"
   ]
  },
  {
   "cell_type": "code",
   "execution_count": 184,
   "id": "0ff1e6f0",
   "metadata": {},
   "outputs": [
    {
     "data": {
      "text/plain": [
       "index                       0\n",
       "Category: All categories    0\n",
       "dtype: int64"
      ]
     },
     "execution_count": 184,
     "metadata": {},
     "output_type": "execute_result"
    }
   ],
   "source": [
    "xbox_gt1.isna().sum()"
   ]
  },
  {
   "cell_type": "markdown",
   "id": "f1d36a68",
   "metadata": {},
   "source": [
    "## renaming the columns"
   ]
  },
  {
   "cell_type": "code",
   "execution_count": 185,
   "id": "91071cc2",
   "metadata": {},
   "outputs": [
    {
     "data": {
      "text/html": [
       "<div>\n",
       "<style scoped>\n",
       "    .dataframe tbody tr th:only-of-type {\n",
       "        vertical-align: middle;\n",
       "    }\n",
       "\n",
       "    .dataframe tbody tr th {\n",
       "        vertical-align: top;\n",
       "    }\n",
       "\n",
       "    .dataframe thead th {\n",
       "        text-align: right;\n",
       "    }\n",
       "</style>\n",
       "<table border=\"1\" class=\"dataframe\">\n",
       "  <thead>\n",
       "    <tr style=\"text-align: right;\">\n",
       "      <th></th>\n",
       "      <th>week</th>\n",
       "      <th>searched_count_xbox</th>\n",
       "    </tr>\n",
       "  </thead>\n",
       "  <tbody>\n",
       "    <tr>\n",
       "      <th>1</th>\n",
       "      <td>2017-09-17</td>\n",
       "      <td>38</td>\n",
       "    </tr>\n",
       "    <tr>\n",
       "      <th>2</th>\n",
       "      <td>2017-09-24</td>\n",
       "      <td>36</td>\n",
       "    </tr>\n",
       "    <tr>\n",
       "      <th>3</th>\n",
       "      <td>2017-10-01</td>\n",
       "      <td>35</td>\n",
       "    </tr>\n",
       "    <tr>\n",
       "      <th>4</th>\n",
       "      <td>2017-10-08</td>\n",
       "      <td>37</td>\n",
       "    </tr>\n",
       "    <tr>\n",
       "      <th>5</th>\n",
       "      <td>2017-10-15</td>\n",
       "      <td>37</td>\n",
       "    </tr>\n",
       "  </tbody>\n",
       "</table>\n",
       "</div>"
      ],
      "text/plain": [
       "         week searched_count_xbox\n",
       "1  2017-09-17                  38\n",
       "2  2017-09-24                  36\n",
       "3  2017-10-01                  35\n",
       "4  2017-10-08                  37\n",
       "5  2017-10-15                  37"
      ]
     },
     "execution_count": 185,
     "metadata": {},
     "output_type": "execute_result"
    }
   ],
   "source": [
    "xbox_gt1 = xbox_gt1.rename(columns={'index': 'week','Category: All categories':'searched_count_xbox'})\n",
    "xbox_gt1.head()"
   ]
  },
  {
   "cell_type": "markdown",
   "id": "8ce5f700",
   "metadata": {},
   "source": [
    "## Data typing and extracting date and month"
   ]
  },
  {
   "cell_type": "code",
   "execution_count": 186,
   "id": "527efdb5",
   "metadata": {},
   "outputs": [
    {
     "data": {
      "text/plain": [
       "1     2017-09-17\n",
       "2     2017-09-24\n",
       "3     2017-10-01\n",
       "4     2017-10-08\n",
       "5     2017-10-15\n",
       "         ...    \n",
       "256   2022-08-07\n",
       "257   2022-08-14\n",
       "258   2022-08-21\n",
       "259   2022-08-28\n",
       "260   2022-09-04\n",
       "Name: week, Length: 260, dtype: datetime64[ns]"
      ]
     },
     "execution_count": 186,
     "metadata": {},
     "output_type": "execute_result"
    }
   ],
   "source": [
    "xbox_gt1['week']=xbox_gt1['week'].astype('datetime64[ns]') \n",
    "xbox_gt1['year_of_order']=xbox_gt1['week'].dt.year\n",
    "\n",
    "xbox_gt1['week']"
   ]
  },
  {
   "cell_type": "code",
   "execution_count": 187,
   "id": "75a41dac",
   "metadata": {},
   "outputs": [
    {
     "data": {
      "text/html": [
       "<div>\n",
       "<style scoped>\n",
       "    .dataframe tbody tr th:only-of-type {\n",
       "        vertical-align: middle;\n",
       "    }\n",
       "\n",
       "    .dataframe tbody tr th {\n",
       "        vertical-align: top;\n",
       "    }\n",
       "\n",
       "    .dataframe thead th {\n",
       "        text-align: right;\n",
       "    }\n",
       "</style>\n",
       "<table border=\"1\" class=\"dataframe\">\n",
       "  <thead>\n",
       "    <tr style=\"text-align: right;\">\n",
       "      <th></th>\n",
       "      <th>week</th>\n",
       "      <th>searched_count_xbox</th>\n",
       "      <th>year_of_order</th>\n",
       "    </tr>\n",
       "  </thead>\n",
       "  <tbody>\n",
       "    <tr>\n",
       "      <th>1</th>\n",
       "      <td>2017-09-17</td>\n",
       "      <td>38</td>\n",
       "      <td>2017</td>\n",
       "    </tr>\n",
       "    <tr>\n",
       "      <th>2</th>\n",
       "      <td>2017-09-24</td>\n",
       "      <td>36</td>\n",
       "      <td>2017</td>\n",
       "    </tr>\n",
       "    <tr>\n",
       "      <th>3</th>\n",
       "      <td>2017-10-01</td>\n",
       "      <td>35</td>\n",
       "      <td>2017</td>\n",
       "    </tr>\n",
       "    <tr>\n",
       "      <th>4</th>\n",
       "      <td>2017-10-08</td>\n",
       "      <td>37</td>\n",
       "      <td>2017</td>\n",
       "    </tr>\n",
       "    <tr>\n",
       "      <th>5</th>\n",
       "      <td>2017-10-15</td>\n",
       "      <td>37</td>\n",
       "      <td>2017</td>\n",
       "    </tr>\n",
       "  </tbody>\n",
       "</table>\n",
       "</div>"
      ],
      "text/plain": [
       "        week searched_count_xbox  year_of_order\n",
       "1 2017-09-17                  38           2017\n",
       "2 2017-09-24                  36           2017\n",
       "3 2017-10-01                  35           2017\n",
       "4 2017-10-08                  37           2017\n",
       "5 2017-10-15                  37           2017"
      ]
     },
     "execution_count": 187,
     "metadata": {},
     "output_type": "execute_result"
    }
   ],
   "source": [
    "xbox_gt1.head()"
   ]
  },
  {
   "cell_type": "markdown",
   "id": "e84757f7",
   "metadata": {},
   "source": [
    "## pre processing for ps4"
   ]
  },
  {
   "cell_type": "code",
   "execution_count": 188,
   "id": "da4caef3",
   "metadata": {},
   "outputs": [
    {
     "data": {
      "text/html": [
       "<div>\n",
       "<style scoped>\n",
       "    .dataframe tbody tr th:only-of-type {\n",
       "        vertical-align: middle;\n",
       "    }\n",
       "\n",
       "    .dataframe tbody tr th {\n",
       "        vertical-align: top;\n",
       "    }\n",
       "\n",
       "    .dataframe thead th {\n",
       "        text-align: right;\n",
       "    }\n",
       "</style>\n",
       "<table border=\"1\" class=\"dataframe\">\n",
       "  <thead>\n",
       "    <tr style=\"text-align: right;\">\n",
       "      <th></th>\n",
       "      <th>Category: All categories</th>\n",
       "    </tr>\n",
       "  </thead>\n",
       "  <tbody>\n",
       "    <tr>\n",
       "      <th>Week</th>\n",
       "      <td>ps4: (United States)</td>\n",
       "    </tr>\n",
       "    <tr>\n",
       "      <th>2017-09-17</th>\n",
       "      <td>18</td>\n",
       "    </tr>\n",
       "    <tr>\n",
       "      <th>2017-09-24</th>\n",
       "      <td>17</td>\n",
       "    </tr>\n",
       "    <tr>\n",
       "      <th>2017-10-01</th>\n",
       "      <td>18</td>\n",
       "    </tr>\n",
       "    <tr>\n",
       "      <th>2017-10-08</th>\n",
       "      <td>18</td>\n",
       "    </tr>\n",
       "  </tbody>\n",
       "</table>\n",
       "</div>"
      ],
      "text/plain": [
       "           Category: All categories\n",
       "Week           ps4: (United States)\n",
       "2017-09-17                       18\n",
       "2017-09-24                       17\n",
       "2017-10-01                       18\n",
       "2017-10-08                       18"
      ]
     },
     "execution_count": 188,
     "metadata": {},
     "output_type": "execute_result"
    }
   ],
   "source": [
    "ps4_gt.head()"
   ]
  },
  {
   "cell_type": "code",
   "execution_count": 189,
   "id": "c6135b16",
   "metadata": {},
   "outputs": [],
   "source": [
    "ps4_gt=ps4_gt.reset_index()"
   ]
  },
  {
   "cell_type": "code",
   "execution_count": 190,
   "id": "9c68fa2c",
   "metadata": {},
   "outputs": [],
   "source": [
    "ps4_gt1=ps4_gt.drop(index=0,axis=1)"
   ]
  },
  {
   "cell_type": "code",
   "execution_count": 191,
   "id": "6dc2c027",
   "metadata": {},
   "outputs": [
    {
     "data": {
      "text/plain": [
       "index                       0\n",
       "Category: All categories    0\n",
       "dtype: int64"
      ]
     },
     "execution_count": 191,
     "metadata": {},
     "output_type": "execute_result"
    }
   ],
   "source": [
    "ps4_gt1.isna().sum()"
   ]
  },
  {
   "cell_type": "markdown",
   "id": "accb4d85",
   "metadata": {},
   "source": [
    "## renaming the columns"
   ]
  },
  {
   "cell_type": "code",
   "execution_count": 192,
   "id": "ff6c12dc",
   "metadata": {},
   "outputs": [
    {
     "data": {
      "text/html": [
       "<div>\n",
       "<style scoped>\n",
       "    .dataframe tbody tr th:only-of-type {\n",
       "        vertical-align: middle;\n",
       "    }\n",
       "\n",
       "    .dataframe tbody tr th {\n",
       "        vertical-align: top;\n",
       "    }\n",
       "\n",
       "    .dataframe thead th {\n",
       "        text-align: right;\n",
       "    }\n",
       "</style>\n",
       "<table border=\"1\" class=\"dataframe\">\n",
       "  <thead>\n",
       "    <tr style=\"text-align: right;\">\n",
       "      <th></th>\n",
       "      <th>week</th>\n",
       "      <th>searched_count_ps4</th>\n",
       "    </tr>\n",
       "  </thead>\n",
       "  <tbody>\n",
       "    <tr>\n",
       "      <th>1</th>\n",
       "      <td>2017-09-17</td>\n",
       "      <td>18</td>\n",
       "    </tr>\n",
       "    <tr>\n",
       "      <th>2</th>\n",
       "      <td>2017-09-24</td>\n",
       "      <td>17</td>\n",
       "    </tr>\n",
       "    <tr>\n",
       "      <th>3</th>\n",
       "      <td>2017-10-01</td>\n",
       "      <td>18</td>\n",
       "    </tr>\n",
       "    <tr>\n",
       "      <th>4</th>\n",
       "      <td>2017-10-08</td>\n",
       "      <td>18</td>\n",
       "    </tr>\n",
       "    <tr>\n",
       "      <th>5</th>\n",
       "      <td>2017-10-15</td>\n",
       "      <td>18</td>\n",
       "    </tr>\n",
       "  </tbody>\n",
       "</table>\n",
       "</div>"
      ],
      "text/plain": [
       "         week searched_count_ps4\n",
       "1  2017-09-17                 18\n",
       "2  2017-09-24                 17\n",
       "3  2017-10-01                 18\n",
       "4  2017-10-08                 18\n",
       "5  2017-10-15                 18"
      ]
     },
     "execution_count": 192,
     "metadata": {},
     "output_type": "execute_result"
    }
   ],
   "source": [
    "ps4_gt1= ps4_gt1.rename(columns={'index': 'week','Category: All categories':'searched_count_ps4'})\n",
    "ps4_gt1.head()"
   ]
  },
  {
   "cell_type": "markdown",
   "id": "7203bb99",
   "metadata": {},
   "source": [
    "### Data typing and extracting date and year"
   ]
  },
  {
   "cell_type": "code",
   "execution_count": 193,
   "id": "2ec8d8e2",
   "metadata": {},
   "outputs": [
    {
     "data": {
      "text/plain": [
       "1     2017-09-17\n",
       "2     2017-09-24\n",
       "3     2017-10-01\n",
       "4     2017-10-08\n",
       "5     2017-10-15\n",
       "         ...    \n",
       "256   2022-08-07\n",
       "257   2022-08-14\n",
       "258   2022-08-21\n",
       "259   2022-08-28\n",
       "260   2022-09-04\n",
       "Name: week, Length: 260, dtype: datetime64[ns]"
      ]
     },
     "execution_count": 193,
     "metadata": {},
     "output_type": "execute_result"
    }
   ],
   "source": [
    "ps4_gt1['week']=ps4_gt1['week'].astype('datetime64[ns]') \n",
    "ps4_gt1['year_of_order']=ps4_gt1['week'].dt.year\n",
    "ps4_gt1['week']"
   ]
  },
  {
   "cell_type": "code",
   "execution_count": 194,
   "id": "359a450e",
   "metadata": {},
   "outputs": [
    {
     "data": {
      "text/html": [
       "<div>\n",
       "<style scoped>\n",
       "    .dataframe tbody tr th:only-of-type {\n",
       "        vertical-align: middle;\n",
       "    }\n",
       "\n",
       "    .dataframe tbody tr th {\n",
       "        vertical-align: top;\n",
       "    }\n",
       "\n",
       "    .dataframe thead th {\n",
       "        text-align: right;\n",
       "    }\n",
       "</style>\n",
       "<table border=\"1\" class=\"dataframe\">\n",
       "  <thead>\n",
       "    <tr style=\"text-align: right;\">\n",
       "      <th></th>\n",
       "      <th>week</th>\n",
       "      <th>searched_count_ps4</th>\n",
       "      <th>year_of_order</th>\n",
       "    </tr>\n",
       "  </thead>\n",
       "  <tbody>\n",
       "    <tr>\n",
       "      <th>1</th>\n",
       "      <td>2017-09-17</td>\n",
       "      <td>18</td>\n",
       "      <td>2017</td>\n",
       "    </tr>\n",
       "    <tr>\n",
       "      <th>2</th>\n",
       "      <td>2017-09-24</td>\n",
       "      <td>17</td>\n",
       "      <td>2017</td>\n",
       "    </tr>\n",
       "    <tr>\n",
       "      <th>3</th>\n",
       "      <td>2017-10-01</td>\n",
       "      <td>18</td>\n",
       "      <td>2017</td>\n",
       "    </tr>\n",
       "    <tr>\n",
       "      <th>4</th>\n",
       "      <td>2017-10-08</td>\n",
       "      <td>18</td>\n",
       "      <td>2017</td>\n",
       "    </tr>\n",
       "    <tr>\n",
       "      <th>5</th>\n",
       "      <td>2017-10-15</td>\n",
       "      <td>18</td>\n",
       "      <td>2017</td>\n",
       "    </tr>\n",
       "  </tbody>\n",
       "</table>\n",
       "</div>"
      ],
      "text/plain": [
       "        week searched_count_ps4  year_of_order\n",
       "1 2017-09-17                 18           2017\n",
       "2 2017-09-24                 17           2017\n",
       "3 2017-10-01                 18           2017\n",
       "4 2017-10-08                 18           2017\n",
       "5 2017-10-15                 18           2017"
      ]
     },
     "execution_count": 194,
     "metadata": {},
     "output_type": "execute_result"
    }
   ],
   "source": [
    "ps4_gt1.head()"
   ]
  },
  {
   "cell_type": "markdown",
   "id": "43967fca",
   "metadata": {},
   "source": [
    "### pre processing for videogame dataset"
   ]
  },
  {
   "cell_type": "code",
   "execution_count": 195,
   "id": "ccac2254",
   "metadata": {},
   "outputs": [
    {
     "data": {
      "text/html": [
       "<div>\n",
       "<style scoped>\n",
       "    .dataframe tbody tr th:only-of-type {\n",
       "        vertical-align: middle;\n",
       "    }\n",
       "\n",
       "    .dataframe tbody tr th {\n",
       "        vertical-align: top;\n",
       "    }\n",
       "\n",
       "    .dataframe thead th {\n",
       "        text-align: right;\n",
       "    }\n",
       "</style>\n",
       "<table border=\"1\" class=\"dataframe\">\n",
       "  <thead>\n",
       "    <tr style=\"text-align: right;\">\n",
       "      <th></th>\n",
       "      <th>Category: All categories</th>\n",
       "    </tr>\n",
       "  </thead>\n",
       "  <tbody>\n",
       "    <tr>\n",
       "      <th>Week</th>\n",
       "      <td>video games: (United States)</td>\n",
       "    </tr>\n",
       "    <tr>\n",
       "      <th>2017-09-17</th>\n",
       "      <td>53</td>\n",
       "    </tr>\n",
       "    <tr>\n",
       "      <th>2017-09-24</th>\n",
       "      <td>54</td>\n",
       "    </tr>\n",
       "    <tr>\n",
       "      <th>2017-10-01</th>\n",
       "      <td>48</td>\n",
       "    </tr>\n",
       "    <tr>\n",
       "      <th>2017-10-08</th>\n",
       "      <td>56</td>\n",
       "    </tr>\n",
       "  </tbody>\n",
       "</table>\n",
       "</div>"
      ],
      "text/plain": [
       "                Category: All categories\n",
       "Week        video games: (United States)\n",
       "2017-09-17                            53\n",
       "2017-09-24                            54\n",
       "2017-10-01                            48\n",
       "2017-10-08                            56"
      ]
     },
     "execution_count": 195,
     "metadata": {},
     "output_type": "execute_result"
    }
   ],
   "source": [
    "videogame_gt.head()"
   ]
  },
  {
   "cell_type": "code",
   "execution_count": 196,
   "id": "86bef383",
   "metadata": {},
   "outputs": [],
   "source": [
    "videogame_gt=videogame_gt.reset_index()\n",
    "videogame_gt1=videogame_gt.drop(index=0,axis=1)"
   ]
  },
  {
   "cell_type": "code",
   "execution_count": 197,
   "id": "5e03ebc5",
   "metadata": {},
   "outputs": [
    {
     "data": {
      "text/plain": [
       "index                       0\n",
       "Category: All categories    0\n",
       "dtype: int64"
      ]
     },
     "execution_count": 197,
     "metadata": {},
     "output_type": "execute_result"
    }
   ],
   "source": [
    "videogame_gt1.isna().sum()"
   ]
  },
  {
   "cell_type": "markdown",
   "id": "dcfb4aaa",
   "metadata": {},
   "source": [
    "### renaming the columns"
   ]
  },
  {
   "cell_type": "code",
   "execution_count": 198,
   "id": "683f8db3",
   "metadata": {},
   "outputs": [
    {
     "data": {
      "text/html": [
       "<div>\n",
       "<style scoped>\n",
       "    .dataframe tbody tr th:only-of-type {\n",
       "        vertical-align: middle;\n",
       "    }\n",
       "\n",
       "    .dataframe tbody tr th {\n",
       "        vertical-align: top;\n",
       "    }\n",
       "\n",
       "    .dataframe thead th {\n",
       "        text-align: right;\n",
       "    }\n",
       "</style>\n",
       "<table border=\"1\" class=\"dataframe\">\n",
       "  <thead>\n",
       "    <tr style=\"text-align: right;\">\n",
       "      <th></th>\n",
       "      <th>week</th>\n",
       "      <th>searched_count_video_game</th>\n",
       "    </tr>\n",
       "  </thead>\n",
       "  <tbody>\n",
       "    <tr>\n",
       "      <th>1</th>\n",
       "      <td>2017-09-17</td>\n",
       "      <td>53</td>\n",
       "    </tr>\n",
       "    <tr>\n",
       "      <th>2</th>\n",
       "      <td>2017-09-24</td>\n",
       "      <td>54</td>\n",
       "    </tr>\n",
       "    <tr>\n",
       "      <th>3</th>\n",
       "      <td>2017-10-01</td>\n",
       "      <td>48</td>\n",
       "    </tr>\n",
       "    <tr>\n",
       "      <th>4</th>\n",
       "      <td>2017-10-08</td>\n",
       "      <td>56</td>\n",
       "    </tr>\n",
       "    <tr>\n",
       "      <th>5</th>\n",
       "      <td>2017-10-15</td>\n",
       "      <td>57</td>\n",
       "    </tr>\n",
       "  </tbody>\n",
       "</table>\n",
       "</div>"
      ],
      "text/plain": [
       "         week searched_count_video_game\n",
       "1  2017-09-17                        53\n",
       "2  2017-09-24                        54\n",
       "3  2017-10-01                        48\n",
       "4  2017-10-08                        56\n",
       "5  2017-10-15                        57"
      ]
     },
     "execution_count": 198,
     "metadata": {},
     "output_type": "execute_result"
    }
   ],
   "source": [
    "videogame_gt1= videogame_gt1.rename(columns={'index': 'week','Category: All categories':'searched_count_video_game'})\n",
    "videogame_gt1.head()"
   ]
  },
  {
   "cell_type": "markdown",
   "id": "27eeb4ca",
   "metadata": {},
   "source": [
    "### Data typing and extracting date and year"
   ]
  },
  {
   "cell_type": "code",
   "execution_count": 199,
   "id": "e06e2779",
   "metadata": {},
   "outputs": [
    {
     "data": {
      "text/plain": [
       "1     2017-09-17\n",
       "2     2017-09-24\n",
       "3     2017-10-01\n",
       "4     2017-10-08\n",
       "5     2017-10-15\n",
       "         ...    \n",
       "256   2022-08-07\n",
       "257   2022-08-14\n",
       "258   2022-08-21\n",
       "259   2022-08-28\n",
       "260   2022-09-04\n",
       "Name: week, Length: 260, dtype: datetime64[ns]"
      ]
     },
     "execution_count": 199,
     "metadata": {},
     "output_type": "execute_result"
    }
   ],
   "source": [
    "videogame_gt1['week']=videogame_gt1['week'].astype('datetime64[ns]') ## Data typing and extracting date and month\n",
    "videogame_gt1['year_of_order']=videogame_gt1['week'].dt.year\n",
    "#videogame_gt1['week']=videogame_gt1['week'].dt.date\n",
    "videogame_gt1['week']"
   ]
  },
  {
   "cell_type": "code",
   "execution_count": 200,
   "id": "2e3bd734",
   "metadata": {},
   "outputs": [
    {
     "data": {
      "text/html": [
       "<div>\n",
       "<style scoped>\n",
       "    .dataframe tbody tr th:only-of-type {\n",
       "        vertical-align: middle;\n",
       "    }\n",
       "\n",
       "    .dataframe tbody tr th {\n",
       "        vertical-align: top;\n",
       "    }\n",
       "\n",
       "    .dataframe thead th {\n",
       "        text-align: right;\n",
       "    }\n",
       "</style>\n",
       "<table border=\"1\" class=\"dataframe\">\n",
       "  <thead>\n",
       "    <tr style=\"text-align: right;\">\n",
       "      <th></th>\n",
       "      <th>week</th>\n",
       "      <th>searched_count_video_game</th>\n",
       "      <th>year_of_order</th>\n",
       "    </tr>\n",
       "  </thead>\n",
       "  <tbody>\n",
       "    <tr>\n",
       "      <th>1</th>\n",
       "      <td>2017-09-17</td>\n",
       "      <td>53</td>\n",
       "      <td>2017</td>\n",
       "    </tr>\n",
       "    <tr>\n",
       "      <th>2</th>\n",
       "      <td>2017-09-24</td>\n",
       "      <td>54</td>\n",
       "      <td>2017</td>\n",
       "    </tr>\n",
       "    <tr>\n",
       "      <th>3</th>\n",
       "      <td>2017-10-01</td>\n",
       "      <td>48</td>\n",
       "      <td>2017</td>\n",
       "    </tr>\n",
       "    <tr>\n",
       "      <th>4</th>\n",
       "      <td>2017-10-08</td>\n",
       "      <td>56</td>\n",
       "      <td>2017</td>\n",
       "    </tr>\n",
       "    <tr>\n",
       "      <th>5</th>\n",
       "      <td>2017-10-15</td>\n",
       "      <td>57</td>\n",
       "      <td>2017</td>\n",
       "    </tr>\n",
       "  </tbody>\n",
       "</table>\n",
       "</div>"
      ],
      "text/plain": [
       "        week searched_count_video_game  year_of_order\n",
       "1 2017-09-17                        53           2017\n",
       "2 2017-09-24                        54           2017\n",
       "3 2017-10-01                        48           2017\n",
       "4 2017-10-08                        56           2017\n",
       "5 2017-10-15                        57           2017"
      ]
     },
     "execution_count": 200,
     "metadata": {},
     "output_type": "execute_result"
    }
   ],
   "source": [
    "videogame_gt1.head()"
   ]
  },
  {
   "cell_type": "code",
   "execution_count": 201,
   "id": "aee704fe",
   "metadata": {},
   "outputs": [],
   "source": [
    "videogame_gt1.to_csv('videogame_file.csv')"
   ]
  },
  {
   "cell_type": "code",
   "execution_count": 202,
   "id": "f9419e77",
   "metadata": {},
   "outputs": [],
   "source": [
    "ps4_gt1.to_csv('ps4_file.csv')"
   ]
  },
  {
   "cell_type": "code",
   "execution_count": 203,
   "id": "6c045542",
   "metadata": {},
   "outputs": [],
   "source": [
    "xbox_gt1.to_csv('xbox_file.csv')"
   ]
  },
  {
   "cell_type": "markdown",
   "id": "60c76a83",
   "metadata": {},
   "source": [
    "## merging the datasets"
   ]
  },
  {
   "cell_type": "code",
   "execution_count": 204,
   "id": "e16c797b",
   "metadata": {
    "scrolled": true
   },
   "outputs": [
    {
     "data": {
      "text/html": [
       "<div>\n",
       "<style scoped>\n",
       "    .dataframe tbody tr th:only-of-type {\n",
       "        vertical-align: middle;\n",
       "    }\n",
       "\n",
       "    .dataframe tbody tr th {\n",
       "        vertical-align: top;\n",
       "    }\n",
       "\n",
       "    .dataframe thead th {\n",
       "        text-align: right;\n",
       "    }\n",
       "</style>\n",
       "<table border=\"1\" class=\"dataframe\">\n",
       "  <thead>\n",
       "    <tr style=\"text-align: right;\">\n",
       "      <th></th>\n",
       "      <th>week</th>\n",
       "      <th>searched_count_video_game</th>\n",
       "      <th>year_of_order</th>\n",
       "      <th>searched_count_ps4</th>\n",
       "      <th>searched_count_xbox</th>\n",
       "    </tr>\n",
       "  </thead>\n",
       "  <tbody>\n",
       "    <tr>\n",
       "      <th>0</th>\n",
       "      <td>2017-09-17</td>\n",
       "      <td>53</td>\n",
       "      <td>2017</td>\n",
       "      <td>18</td>\n",
       "      <td>38</td>\n",
       "    </tr>\n",
       "    <tr>\n",
       "      <th>1</th>\n",
       "      <td>2017-09-24</td>\n",
       "      <td>54</td>\n",
       "      <td>2017</td>\n",
       "      <td>17</td>\n",
       "      <td>36</td>\n",
       "    </tr>\n",
       "    <tr>\n",
       "      <th>2</th>\n",
       "      <td>2017-10-01</td>\n",
       "      <td>48</td>\n",
       "      <td>2017</td>\n",
       "      <td>18</td>\n",
       "      <td>35</td>\n",
       "    </tr>\n",
       "    <tr>\n",
       "      <th>3</th>\n",
       "      <td>2017-10-08</td>\n",
       "      <td>56</td>\n",
       "      <td>2017</td>\n",
       "      <td>18</td>\n",
       "      <td>37</td>\n",
       "    </tr>\n",
       "    <tr>\n",
       "      <th>4</th>\n",
       "      <td>2017-10-15</td>\n",
       "      <td>57</td>\n",
       "      <td>2017</td>\n",
       "      <td>18</td>\n",
       "      <td>37</td>\n",
       "    </tr>\n",
       "    <tr>\n",
       "      <th>...</th>\n",
       "      <td>...</td>\n",
       "      <td>...</td>\n",
       "      <td>...</td>\n",
       "      <td>...</td>\n",
       "      <td>...</td>\n",
       "    </tr>\n",
       "    <tr>\n",
       "      <th>255</th>\n",
       "      <td>2022-08-07</td>\n",
       "      <td>51</td>\n",
       "      <td>2022</td>\n",
       "      <td>12</td>\n",
       "      <td>32</td>\n",
       "    </tr>\n",
       "    <tr>\n",
       "      <th>256</th>\n",
       "      <td>2022-08-14</td>\n",
       "      <td>54</td>\n",
       "      <td>2022</td>\n",
       "      <td>12</td>\n",
       "      <td>31</td>\n",
       "    </tr>\n",
       "    <tr>\n",
       "      <th>257</th>\n",
       "      <td>2022-08-21</td>\n",
       "      <td>54</td>\n",
       "      <td>2022</td>\n",
       "      <td>11</td>\n",
       "      <td>30</td>\n",
       "    </tr>\n",
       "    <tr>\n",
       "      <th>258</th>\n",
       "      <td>2022-08-28</td>\n",
       "      <td>52</td>\n",
       "      <td>2022</td>\n",
       "      <td>10</td>\n",
       "      <td>28</td>\n",
       "    </tr>\n",
       "    <tr>\n",
       "      <th>259</th>\n",
       "      <td>2022-09-04</td>\n",
       "      <td>55</td>\n",
       "      <td>2022</td>\n",
       "      <td>11</td>\n",
       "      <td>30</td>\n",
       "    </tr>\n",
       "  </tbody>\n",
       "</table>\n",
       "<p>260 rows × 5 columns</p>\n",
       "</div>"
      ],
      "text/plain": [
       "          week searched_count_video_game  year_of_order searched_count_ps4  \\\n",
       "0   2017-09-17                        53           2017                 18   \n",
       "1   2017-09-24                        54           2017                 17   \n",
       "2   2017-10-01                        48           2017                 18   \n",
       "3   2017-10-08                        56           2017                 18   \n",
       "4   2017-10-15                        57           2017                 18   \n",
       "..         ...                       ...            ...                ...   \n",
       "255 2022-08-07                        51           2022                 12   \n",
       "256 2022-08-14                        54           2022                 12   \n",
       "257 2022-08-21                        54           2022                 11   \n",
       "258 2022-08-28                        52           2022                 10   \n",
       "259 2022-09-04                        55           2022                 11   \n",
       "\n",
       "    searched_count_xbox  \n",
       "0                    38  \n",
       "1                    36  \n",
       "2                    35  \n",
       "3                    37  \n",
       "4                    37  \n",
       "..                  ...  \n",
       "255                  32  \n",
       "256                  31  \n",
       "257                  30  \n",
       "258                  28  \n",
       "259                  30  \n",
       "\n",
       "[260 rows x 5 columns]"
      ]
     },
     "execution_count": 204,
     "metadata": {},
     "output_type": "execute_result"
    }
   ],
   "source": [
    "trends = reduce(lambda left, right:     \n",
    "                     pd.merge(left , right,\n",
    "                              on = [\"year_of_order\",\"week\"]),\n",
    "                     [videogame_gt1,ps4_gt1,xbox_gt1])\n",
    "trends "
   ]
  },
  {
   "cell_type": "code",
   "execution_count": 205,
   "id": "7867bba5",
   "metadata": {},
   "outputs": [],
   "source": [
    "trends.to_csv('trends.csv')"
   ]
  },
  {
   "cell_type": "code",
   "execution_count": null,
   "id": "ce367db1",
   "metadata": {},
   "outputs": [],
   "source": []
  }
 ],
 "metadata": {
  "kernelspec": {
   "display_name": "Python 3 (ipykernel)",
   "language": "python",
   "name": "python3"
  },
  "language_info": {
   "codemirror_mode": {
    "name": "ipython",
    "version": 3
   },
   "file_extension": ".py",
   "mimetype": "text/x-python",
   "name": "python",
   "nbconvert_exporter": "python",
   "pygments_lexer": "ipython3",
   "version": "3.9.12"
  }
 },
 "nbformat": 4,
 "nbformat_minor": 5
}
